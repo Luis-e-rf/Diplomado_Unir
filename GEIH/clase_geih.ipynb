{
 "cells": [
  {
   "cell_type": "code",
   "execution_count": 1,
   "metadata": {},
   "outputs": [],
   "source": [
    "# 0. Importación de librerías\n",
    "\n",
    "import numpy as np\n",
    "import pandas as pd \n",
    "import matplotlib.pyplot as plt \n",
    "import seaborn as sns \n",
    "import os \n",
    "import glob"
   ]
  },
  {
   "cell_type": "code",
   "execution_count": 2,
   "metadata": {},
   "outputs": [],
   "source": [
    "# 1. Establecer el directorio (local)\n",
    "\n",
    "os.chdir(\"C:/Users/USUARIO/Desktop/Ciencia de datos/GEIH/GEIH 22/Mincer project\")"
   ]
  },
  {
   "cell_type": "code",
   "execution_count": 3,
   "metadata": {},
   "outputs": [
    {
     "data": {
      "text/plain": [
       "['1.Características generales, seguridad social en salud y educación.csv',\n",
       " '1.Ocupados.csv',\n",
       " '10.Características generales, seguridad social en salud y educación.CSV',\n",
       " '10.Ocupados.CSV',\n",
       " '11.Características generales, seguridad social en salud y educación.CSV',\n",
       " '11.Ocupados.CSV',\n",
       " '12.Características generales, seguridad social en salud y educación.CSV',\n",
       " '12.Ocupados.CSV',\n",
       " '2.Características generales, seguridad social en salud y educación.CSV',\n",
       " '2.Ocupados.CSV',\n",
       " '3.Características generales, seguridad social en salud y educación.CSV',\n",
       " '3.Ocupados.CSV',\n",
       " '4.Características generales, seguridad social en salud y educación.CSV',\n",
       " '4.Ocupados.CSV',\n",
       " '5.Características generales, seguridad social en salud y educación.CSV',\n",
       " '5.Ocupados.CSV',\n",
       " '6.Características generales, seguridad social en salud y educación.CSV',\n",
       " '6.Ocupados.CSV',\n",
       " '7.Características generales, seguridad social en salud y educación.CSV',\n",
       " '7.Ocupados.CSV',\n",
       " '8.Características generales, seguridad social en salud y educación.CSV',\n",
       " '8.Ocupados.CSV',\n",
       " '9.Características generales, seguridad social en salud y educación.CSV',\n",
       " '9.Ocupados.CSV']"
      ]
     },
     "execution_count": 3,
     "metadata": {},
     "output_type": "execute_result"
    }
   ],
   "source": [
    "directorio = os.getcwd()\n",
    "os.listdir()\n",
    "#directorio"
   ]
  },
  {
   "cell_type": "code",
   "execution_count": 4,
   "metadata": {},
   "outputs": [
    {
     "data": {
      "text/plain": [
       "12"
      ]
     },
     "execution_count": 4,
     "metadata": {},
     "output_type": "execute_result"
    }
   ],
   "source": [
    "# 2. Importación de datos\n",
    "\n",
    "archivos_cg = glob.glob(os.path.join(directorio,\"*Características generales*.csv\"))\n",
    "archivos_ocupados = glob.glob(os.path.join(directorio,\"*Ocupados*.csv\"))\n",
    "len(archivos_ocupados)"
   ]
  },
  {
   "cell_type": "code",
   "execution_count": 5,
   "metadata": {},
   "outputs": [],
   "source": [
    "df_ocupados = []\n",
    "\n",
    "for i in archivos_cg:\n",
    "    if i == archivos_cg[0]:\n",
    "        df_cg = pd.read_csv(i,encoding='latin-1',sep = ',')\n",
    "    else:\n",
    "        df_cg = pd.read_csv(i,encoding='latin-1',sep = ';')\n",
    "        \n",
    "    df_ocupados.append(df_cg)"
   ]
  },
  {
   "cell_type": "code",
   "execution_count": 8,
   "metadata": {},
   "outputs": [
    {
     "name": "stdout",
     "output_type": "stream",
     "text": [
      "(80116, 74)\n",
      "(73477, 74)\n",
      "(73614, 74)\n",
      "(72846, 74)\n",
      "(79783, 74)\n",
      "(78595, 74)\n",
      "(77679, 74)\n",
      "(77380, 74)\n",
      "(77999, 74)\n",
      "(75963, 74)\n",
      "(76625, 74)\n",
      "(75382, 74)\n"
     ]
    }
   ],
   "source": [
    "for i in df_ocupados:\n",
    "    print(i.shape)"
   ]
  },
  {
   "cell_type": "code",
   "execution_count": 9,
   "metadata": {},
   "outputs": [],
   "source": [
    "# Selección del conjunto de varibales\n",
    "\n",
    "columnas_general = [\"DIRECTORIO\",\"SECUENCIA_P\",\"ORDEN\",\"P3271\",\"P6040\",\"P6080\",\"P6070\",\"P6090\",\n",
    "                    \"P6160\",\"P3042S1\",\"HOGAR\",\"CLASE\",\"P3038\",\"DPTO\",\"MES\",\"FEX_C18\"]"
   ]
  },
  {
   "cell_type": "code",
   "execution_count": 11,
   "metadata": {},
   "outputs": [],
   "source": [
    "# Filtrar o seleccionar el conjunto de variables de interés\n",
    "\n",
    "for i in range(len(df_ocupados)):\n",
    "    df_ocupados[i] = df_ocupados[i].loc[:,columnas_general]"
   ]
  },
  {
   "cell_type": "code",
   "execution_count": 12,
   "metadata": {},
   "outputs": [
    {
     "name": "stdout",
     "output_type": "stream",
     "text": [
      "(80116, 16)\n",
      "(73477, 16)\n",
      "(73614, 16)\n",
      "(72846, 16)\n",
      "(79783, 16)\n",
      "(78595, 16)\n",
      "(77679, 16)\n",
      "(77380, 16)\n",
      "(77999, 16)\n",
      "(75963, 16)\n",
      "(76625, 16)\n",
      "(75382, 16)\n"
     ]
    }
   ],
   "source": [
    "for i in df_ocupados:\n",
    "    print(i.shape)"
   ]
  },
  {
   "cell_type": "code",
   "execution_count": 13,
   "metadata": {},
   "outputs": [
    {
     "data": {
      "text/plain": [
       "(919459, 16)"
      ]
     },
     "execution_count": 13,
     "metadata": {},
     "output_type": "execute_result"
    }
   ],
   "source": [
    "df_ocupados = pd.concat(df_ocupados,ignore_index=True) # uniones en SQL\n",
    "df_ocupados.shape"
   ]
  },
  {
   "cell_type": "code",
   "execution_count": 16,
   "metadata": {},
   "outputs": [],
   "source": [
    "df_ocupados.columns = ['DIRECTORIO', 'SECUENCIA_P', 'ORDEN','Sexo','Edad','Etnia','estado_civil',\n",
    "                      'seguro_social','lee','Escolaridad','HOGAR','CLASE','Atraccion', 'DPTO', 'MES', 'FEX_C18']"
   ]
  },
  {
   "cell_type": "code",
   "execution_count": 17,
   "metadata": {},
   "outputs": [
    {
     "data": {
      "text/html": [
       "<div>\n",
       "<style scoped>\n",
       "    .dataframe tbody tr th:only-of-type {\n",
       "        vertical-align: middle;\n",
       "    }\n",
       "\n",
       "    .dataframe tbody tr th {\n",
       "        vertical-align: top;\n",
       "    }\n",
       "\n",
       "    .dataframe thead th {\n",
       "        text-align: right;\n",
       "    }\n",
       "</style>\n",
       "<table border=\"1\" class=\"dataframe\">\n",
       "  <thead>\n",
       "    <tr style=\"text-align: right;\">\n",
       "      <th></th>\n",
       "      <th>DIRECTORIO</th>\n",
       "      <th>SECUENCIA_P</th>\n",
       "      <th>ORDEN</th>\n",
       "      <th>Sexo</th>\n",
       "      <th>Edad</th>\n",
       "      <th>Etnia</th>\n",
       "      <th>estado_civil</th>\n",
       "      <th>seguro_social</th>\n",
       "      <th>lee</th>\n",
       "      <th>Escolaridad</th>\n",
       "      <th>HOGAR</th>\n",
       "      <th>CLASE</th>\n",
       "      <th>Atraccion</th>\n",
       "      <th>DPTO</th>\n",
       "      <th>MES</th>\n",
       "      <th>FEX_C18</th>\n",
       "    </tr>\n",
       "  </thead>\n",
       "  <tbody>\n",
       "    <tr>\n",
       "      <th>280714</th>\n",
       "      <td>7298242</td>\n",
       "      <td>1</td>\n",
       "      <td>2</td>\n",
       "      <td>1</td>\n",
       "      <td>11</td>\n",
       "      <td>1</td>\n",
       "      <td>6.0</td>\n",
       "      <td>1</td>\n",
       "      <td>1.0</td>\n",
       "      <td>4.0</td>\n",
       "      <td>1</td>\n",
       "      <td>2</td>\n",
       "      <td>NaN</td>\n",
       "      <td>70</td>\n",
       "      <td>12</td>\n",
       "      <td>896.605118</td>\n",
       "    </tr>\n",
       "    <tr>\n",
       "      <th>711724</th>\n",
       "      <td>7134796</td>\n",
       "      <td>1</td>\n",
       "      <td>2</td>\n",
       "      <td>2</td>\n",
       "      <td>56</td>\n",
       "      <td>6</td>\n",
       "      <td>2.0</td>\n",
       "      <td>1</td>\n",
       "      <td>2.0</td>\n",
       "      <td>0.0</td>\n",
       "      <td>1</td>\n",
       "      <td>2</td>\n",
       "      <td>1.0</td>\n",
       "      <td>5</td>\n",
       "      <td>7</td>\n",
       "      <td>2652.982608</td>\n",
       "    </tr>\n",
       "    <tr>\n",
       "      <th>104692</th>\n",
       "      <td>7226888</td>\n",
       "      <td>1</td>\n",
       "      <td>2</td>\n",
       "      <td>1</td>\n",
       "      <td>44</td>\n",
       "      <td>6</td>\n",
       "      <td>6.0</td>\n",
       "      <td>1</td>\n",
       "      <td>1.0</td>\n",
       "      <td>7.0</td>\n",
       "      <td>1</td>\n",
       "      <td>1</td>\n",
       "      <td>2.0</td>\n",
       "      <td>52</td>\n",
       "      <td>10</td>\n",
       "      <td>156.119784</td>\n",
       "    </tr>\n",
       "  </tbody>\n",
       "</table>\n",
       "</div>"
      ],
      "text/plain": [
       "        DIRECTORIO  SECUENCIA_P  ORDEN  Sexo  Edad  Etnia  estado_civil  \\\n",
       "280714     7298242            1      2     1    11      1           6.0   \n",
       "711724     7134796            1      2     2    56      6           2.0   \n",
       "104692     7226888            1      2     1    44      6           6.0   \n",
       "\n",
       "        seguro_social  lee  Escolaridad  HOGAR  CLASE  Atraccion  DPTO  MES  \\\n",
       "280714              1  1.0          4.0      1      2        NaN    70   12   \n",
       "711724              1  2.0          0.0      1      2        1.0     5    7   \n",
       "104692              1  1.0          7.0      1      1        2.0    52   10   \n",
       "\n",
       "            FEX_C18  \n",
       "280714   896.605118  \n",
       "711724  2652.982608  \n",
       "104692   156.119784  "
      ]
     },
     "execution_count": 17,
     "metadata": {},
     "output_type": "execute_result"
    }
   ],
   "source": [
    "df_ocupados.sample(3)"
   ]
  },
  {
   "cell_type": "code",
   "execution_count": 18,
   "metadata": {},
   "outputs": [
    {
     "name": "stderr",
     "output_type": "stream",
     "text": [
      "C:\\Users\\USUARIO.DESKTOP-VVDFT1P\\AppData\\Local\\Temp\\ipykernel_3440\\2178448721.py:8: DtypeWarning: Columns (17,68,88,102,113) have mixed types. Specify dtype option on import or set low_memory=False.\n",
      "  df_o = pd.read_csv(i, encoding='latin-1', delimiter=',')\n",
      "C:\\Users\\USUARIO.DESKTOP-VVDFT1P\\AppData\\Local\\Temp\\ipykernel_3440\\2178448721.py:10: DtypeWarning: Columns (28,89,135,161) have mixed types. Specify dtype option on import or set low_memory=False.\n",
      "  df_o = pd.read_csv(i, encoding='latin-1', delimiter=';')\n",
      "C:\\Users\\USUARIO.DESKTOP-VVDFT1P\\AppData\\Local\\Temp\\ipykernel_3440\\2178448721.py:10: DtypeWarning: Columns (28,135,161) have mixed types. Specify dtype option on import or set low_memory=False.\n",
      "  df_o = pd.read_csv(i, encoding='latin-1', delimiter=';')\n",
      "C:\\Users\\USUARIO.DESKTOP-VVDFT1P\\AppData\\Local\\Temp\\ipykernel_3440\\2178448721.py:10: DtypeWarning: Columns (28,89,135,161) have mixed types. Specify dtype option on import or set low_memory=False.\n",
      "  df_o = pd.read_csv(i, encoding='latin-1', delimiter=';')\n",
      "C:\\Users\\USUARIO.DESKTOP-VVDFT1P\\AppData\\Local\\Temp\\ipykernel_3440\\2178448721.py:10: DtypeWarning: Columns (17,68,88,94,97,102,113) have mixed types. Specify dtype option on import or set low_memory=False.\n",
      "  df_o = pd.read_csv(i, encoding='latin-1', delimiter=';')\n",
      "C:\\Users\\USUARIO.DESKTOP-VVDFT1P\\AppData\\Local\\Temp\\ipykernel_3440\\2178448721.py:10: DtypeWarning: Columns (17,68,88,97,113) have mixed types. Specify dtype option on import or set low_memory=False.\n",
      "  df_o = pd.read_csv(i, encoding='latin-1', delimiter=';')\n",
      "C:\\Users\\USUARIO.DESKTOP-VVDFT1P\\AppData\\Local\\Temp\\ipykernel_3440\\2178448721.py:10: DtypeWarning: Columns (28,89,135,150,161) have mixed types. Specify dtype option on import or set low_memory=False.\n",
      "  df_o = pd.read_csv(i, encoding='latin-1', delimiter=';')\n",
      "C:\\Users\\USUARIO.DESKTOP-VVDFT1P\\AppData\\Local\\Temp\\ipykernel_3440\\2178448721.py:10: DtypeWarning: Columns (28,89,135,161) have mixed types. Specify dtype option on import or set low_memory=False.\n",
      "  df_o = pd.read_csv(i, encoding='latin-1', delimiter=';')\n",
      "C:\\Users\\USUARIO.DESKTOP-VVDFT1P\\AppData\\Local\\Temp\\ipykernel_3440\\2178448721.py:10: DtypeWarning: Columns (28,89,135,150,161) have mixed types. Specify dtype option on import or set low_memory=False.\n",
      "  df_o = pd.read_csv(i, encoding='latin-1', delimiter=';')\n",
      "C:\\Users\\USUARIO.DESKTOP-VVDFT1P\\AppData\\Local\\Temp\\ipykernel_3440\\2178448721.py:10: DtypeWarning: Columns (89,135,161) have mixed types. Specify dtype option on import or set low_memory=False.\n",
      "  df_o = pd.read_csv(i, encoding='latin-1', delimiter=';')\n",
      "C:\\Users\\USUARIO.DESKTOP-VVDFT1P\\AppData\\Local\\Temp\\ipykernel_3440\\2178448721.py:10: DtypeWarning: Columns (28,89,135,161) have mixed types. Specify dtype option on import or set low_memory=False.\n",
      "  df_o = pd.read_csv(i, encoding='latin-1', delimiter=';')\n",
      "C:\\Users\\USUARIO.DESKTOP-VVDFT1P\\AppData\\Local\\Temp\\ipykernel_3440\\2178448721.py:10: DtypeWarning: Columns (28,89,135,148,161) have mixed types. Specify dtype option on import or set low_memory=False.\n",
      "  df_o = pd.read_csv(i, encoding='latin-1', delimiter=';')\n"
     ]
    }
   ],
   "source": [
    "# Archivos ocupados\n",
    "\n",
    "df_ocupados = []\n",
    "\n",
    "for i in archivos_ocupados:\n",
    "    # Selecciona el delimitador según el nombre del archivo\n",
    "    if i == archivos_ocupados[0] :\n",
    "        df_o = pd.read_csv(i, encoding='latin-1', delimiter=',')\n",
    "    else:\n",
    "        df_o = pd.read_csv(i, encoding='latin-1', delimiter=';')\n",
    "    \n",
    "    df_ocupados.append(df_o)"
   ]
  },
  {
   "cell_type": "code",
   "execution_count": 19,
   "metadata": {},
   "outputs": [
    {
     "name": "stdout",
     "output_type": "stream",
     "text": [
      "(31819, 199)\n",
      "(30958, 200)\n",
      "(31133, 200)\n",
      "(30505, 200)\n",
      "(32979, 199)\n",
      "(32875, 199)\n",
      "(31914, 200)\n",
      "(32538, 200)\n",
      "(32522, 200)\n",
      "(31531, 200)\n",
      "(31820, 200)\n",
      "(31867, 200)\n"
     ]
    }
   ],
   "source": [
    "for i in df_ocupados:\n",
    "    print(i.shape)"
   ]
  },
  {
   "cell_type": "code",
   "execution_count": 20,
   "metadata": {},
   "outputs": [],
   "source": [
    "columnas_ocupados = [\"DIRECTORIO\",\"SECUENCIA_P\",\"ORDEN\",\"HOGAR\",\"P6440\",\"P6426\",\"P6790\",\"P6800\",\"P3069\",\"P6920\",\n",
    "                     \"P7180\",\"RAMA2D_R4\",\"INGLABO\"]"
   ]
  },
  {
   "cell_type": "code",
   "execution_count": 21,
   "metadata": {},
   "outputs": [],
   "source": [
    "for i in range(len(df_ocupados)):\n",
    "    df_ocupados[i] = df_ocupados[i].loc[:,columnas_ocupados]"
   ]
  },
  {
   "cell_type": "code",
   "execution_count": 22,
   "metadata": {},
   "outputs": [
    {
     "name": "stdout",
     "output_type": "stream",
     "text": [
      "(31819, 13)\n",
      "(30958, 13)\n",
      "(31133, 13)\n",
      "(30505, 13)\n",
      "(32979, 13)\n",
      "(32875, 13)\n",
      "(31914, 13)\n",
      "(32538, 13)\n",
      "(32522, 13)\n",
      "(31531, 13)\n",
      "(31820, 13)\n",
      "(31867, 13)\n"
     ]
    }
   ],
   "source": [
    "for i in df_ocupados:\n",
    "    print(i.shape)"
   ]
  },
  {
   "cell_type": "code",
   "execution_count": 23,
   "metadata": {},
   "outputs": [
    {
     "data": {
      "text/plain": [
       "(382461, 13)"
      ]
     },
     "execution_count": 23,
     "metadata": {},
     "output_type": "execute_result"
    }
   ],
   "source": [
    "df_ocupados = pd.concat(df_ocupados,ignore_index=True) # uniones en SQL\n",
    "df_ocupados.shape"
   ]
  },
  {
   "cell_type": "code",
   "execution_count": 24,
   "metadata": {},
   "outputs": [],
   "source": [
    "df_ocupados.columns = ['DIRECTORIO', 'SECUENCIA_P', 'ORDEN', 'HOGAR','Contrato','Tiempo_empresa','Meses_trabajo',\n",
    "                       'Horas_semana','Personal_empresa','Pension','Sindicalizado','CIIU_Rev4','INGLABO']"
   ]
  },
  {
   "cell_type": "code",
   "execution_count": 26,
   "metadata": {},
   "outputs": [
    {
     "data": {
      "text/html": [
       "<div>\n",
       "<style scoped>\n",
       "    .dataframe tbody tr th:only-of-type {\n",
       "        vertical-align: middle;\n",
       "    }\n",
       "\n",
       "    .dataframe tbody tr th {\n",
       "        vertical-align: top;\n",
       "    }\n",
       "\n",
       "    .dataframe thead th {\n",
       "        text-align: right;\n",
       "    }\n",
       "</style>\n",
       "<table border=\"1\" class=\"dataframe\">\n",
       "  <thead>\n",
       "    <tr style=\"text-align: right;\">\n",
       "      <th></th>\n",
       "      <th>DIRECTORIO</th>\n",
       "      <th>SECUENCIA_P</th>\n",
       "      <th>ORDEN</th>\n",
       "      <th>HOGAR</th>\n",
       "      <th>Contrato</th>\n",
       "      <th>Tiempo_empresa</th>\n",
       "      <th>Meses_trabajo</th>\n",
       "      <th>Horas_semana</th>\n",
       "      <th>Personal_empresa</th>\n",
       "      <th>Pension</th>\n",
       "      <th>Sindicalizado</th>\n",
       "      <th>CIIU_Rev4</th>\n",
       "      <th>INGLABO</th>\n",
       "    </tr>\n",
       "  </thead>\n",
       "  <tbody>\n",
       "    <tr>\n",
       "      <th>269388</th>\n",
       "      <td>7109194</td>\n",
       "      <td>1</td>\n",
       "      <td>3</td>\n",
       "      <td>1</td>\n",
       "      <td>1</td>\n",
       "      <td>6</td>\n",
       "      <td>11</td>\n",
       "      <td>40</td>\n",
       "      <td>6</td>\n",
       "      <td>1</td>\n",
       "      <td>2</td>\n",
       "      <td>85</td>\n",
       "      <td>1000000.0</td>\n",
       "    </tr>\n",
       "    <tr>\n",
       "      <th>320632</th>\n",
       "      <td>7157996</td>\n",
       "      <td>1</td>\n",
       "      <td>1</td>\n",
       "      <td>1</td>\n",
       "      <td>1</td>\n",
       "      <td>8</td>\n",
       "      <td>8</td>\n",
       "      <td>20</td>\n",
       "      <td>2</td>\n",
       "      <td>3</td>\n",
       "      <td>2</td>\n",
       "      <td>69</td>\n",
       "      <td>900000.0</td>\n",
       "    </tr>\n",
       "    <tr>\n",
       "      <th>1178</th>\n",
       "      <td>5001160</td>\n",
       "      <td>1</td>\n",
       "      <td>1</td>\n",
       "      <td>1</td>\n",
       "      <td>1</td>\n",
       "      <td>4</td>\n",
       "      <td>4</td>\n",
       "      <td>48</td>\n",
       "      <td>5</td>\n",
       "      <td>1</td>\n",
       "      <td>2</td>\n",
       "      <td>47</td>\n",
       "      <td>908526.0</td>\n",
       "    </tr>\n",
       "  </tbody>\n",
       "</table>\n",
       "</div>"
      ],
      "text/plain": [
       "        DIRECTORIO  SECUENCIA_P  ORDEN  HOGAR  Contrato  Tiempo_empresa  \\\n",
       "269388     7109194            1      3      1         1               6   \n",
       "320632     7157996            1      1      1         1               8   \n",
       "1178       5001160            1      1      1         1               4   \n",
       "\n",
       "        Meses_trabajo  Horas_semana  Personal_empresa  Pension  Sindicalizado  \\\n",
       "269388             11            40                 6        1              2   \n",
       "320632              8            20                 2        3              2   \n",
       "1178                4            48                 5        1              2   \n",
       "\n",
       "        CIIU_Rev4    INGLABO  \n",
       "269388         85  1000000.0  \n",
       "320632         69   900000.0  \n",
       "1178           47   908526.0  "
      ]
     },
     "execution_count": 26,
     "metadata": {},
     "output_type": "execute_result"
    }
   ],
   "source": [
    "df_ocupados.sample(3)"
   ]
  },
  {
   "cell_type": "code",
   "execution_count": 27,
   "metadata": {},
   "outputs": [
    {
     "name": "stdout",
     "output_type": "stream",
     "text": [
      "(919459, 16)\n",
      "(382461, 13)\n"
     ]
    }
   ],
   "source": [
    "print(df_ocupados.shape)\n",
    "print(df_ocupados.shape)"
   ]
  },
  {
   "cell_type": "code",
   "execution_count": 31,
   "metadata": {},
   "outputs": [
    {
     "data": {
      "text/plain": [
       "Sexo\n",
       "2    53.029444\n",
       "1    46.970556\n",
       "Name: proportion, dtype: float64"
      ]
     },
     "execution_count": 31,
     "metadata": {},
     "output_type": "execute_result"
    }
   ],
   "source": [
    "df_ocupados.Sexo.value_counts(normalize= True) * 100"
   ]
  },
  {
   "cell_type": "code",
   "execution_count": 34,
   "metadata": {},
   "outputs": [],
   "source": [
    "# JOIN en SQL o Merge en R y Python\n",
    "# Vamos a cosntruir una llave compuesta (primary key)\n",
    "\n",
    "df_general['Primary_key'] = df_general['DIRECTORIO'].astype(str) + '-' + df_general['SECUENCIA_P'].astype(str)+ '-' + df_general['ORDEN'].astype(str)+ '-' + df_general['HOGAR'].astype(str)\n"
   ]
  },
  {
   "cell_type": "code",
   "execution_count": 36,
   "metadata": {},
   "outputs": [],
   "source": [
    "# Llave ocupados\n",
    "df_ocupados['Primary_key'] = df_ocupados['DIRECTORIO'].astype(str) + '-' + df_ocupados['SECUENCIA_P'].astype(str)+ '-' + df_ocupados['ORDEN'].astype(str)+ '-' + df_ocupados['HOGAR'].astype(str)\n"
   ]
  },
  {
   "cell_type": "code",
   "execution_count": 38,
   "metadata": {},
   "outputs": [],
   "source": [
    "# Datos finales\n",
    "\n",
    "df = pd.merge(df_general,df_ocupados, how='inner', on = 'Primary_key')"
   ]
  },
  {
   "cell_type": "code",
   "execution_count": 39,
   "metadata": {},
   "outputs": [
    {
     "data": {
      "text/plain": [
       "(382461, 30)"
      ]
     },
     "execution_count": 39,
     "metadata": {},
     "output_type": "execute_result"
    }
   ],
   "source": [
    "# Data set final de trabajo\n",
    "\n",
    "df.shape"
   ]
  },
  {
   "cell_type": "markdown",
   "metadata": {},
   "source": [
    "## Análisis bivariado \n",
    "\n",
    "Cómo se relación dos o mas variables de análisis. Por convención trataremos a $y_i$ como la variable dependiente o a explicar (endógena) y las variables $x_i$ como variables independientes o explicativas (exógenas)."
   ]
  },
  {
   "cell_type": "code",
   "execution_count": 46,
   "metadata": {},
   "outputs": [],
   "source": [
    "df.loc[df['Escolaridad'] == 99,'Escolaridad'] = 9"
   ]
  },
  {
   "cell_type": "code",
   "execution_count": 48,
   "metadata": {},
   "outputs": [
    {
     "data": {
      "image/png": "[encoded data removed]",
      "text/plain": [
       "<Figure size 640x480 with 1 Axes>"
      ]
     },
     "metadata": {},
     "output_type": "display_data"
    }
   ],
   "source": [
    "# Analizar la correlación entre años de escolaridad e ingresos laborarles, ¿mas años de educación suponene mejores ingresos promedios?\n",
    "\n",
    "plt.hist(df['Escolaridad'], edgecolor = 'black')\n",
    "plt.show()"
   ]
  },
  {
   "cell_type": "code",
   "execution_count": 49,
   "metadata": {},
   "outputs": [
    {
     "data": {
      "text/html": [
       "<div>\n",
       "<style scoped>\n",
       "    .dataframe tbody tr th:only-of-type {\n",
       "        vertical-align: middle;\n",
       "    }\n",
       "\n",
       "    .dataframe tbody tr th {\n",
       "        vertical-align: top;\n",
       "    }\n",
       "\n",
       "    .dataframe thead th {\n",
       "        text-align: right;\n",
       "    }\n",
       "</style>\n",
       "<table border=\"1\" class=\"dataframe\">\n",
       "  <thead>\n",
       "    <tr style=\"text-align: right;\">\n",
       "      <th></th>\n",
       "      <th>ni</th>\n",
       "      <th>fi</th>\n",
       "      <th>Fi</th>\n",
       "    </tr>\n",
       "    <tr>\n",
       "      <th>Escolaridad</th>\n",
       "      <th></th>\n",
       "      <th></th>\n",
       "      <th></th>\n",
       "    </tr>\n",
       "  </thead>\n",
       "  <tbody>\n",
       "    <tr>\n",
       "      <th>0</th>\n",
       "      <td>11766</td>\n",
       "      <td>0.030764</td>\n",
       "      <td>0.030764</td>\n",
       "    </tr>\n",
       "    <tr>\n",
       "      <th>1</th>\n",
       "      <td>20887</td>\n",
       "      <td>0.054612</td>\n",
       "      <td>0.085376</td>\n",
       "    </tr>\n",
       "    <tr>\n",
       "      <th>2</th>\n",
       "      <td>152275</td>\n",
       "      <td>0.398145</td>\n",
       "      <td>0.483521</td>\n",
       "    </tr>\n",
       "    <tr>\n",
       "      <th>3</th>\n",
       "      <td>27192</td>\n",
       "      <td>0.071097</td>\n",
       "      <td>0.554619</td>\n",
       "    </tr>\n",
       "    <tr>\n",
       "      <th>4</th>\n",
       "      <td>57701</td>\n",
       "      <td>0.150868</td>\n",
       "      <td>0.705486</td>\n",
       "    </tr>\n",
       "    <tr>\n",
       "      <th>5</th>\n",
       "      <td>41786</td>\n",
       "      <td>0.109256</td>\n",
       "      <td>0.814742</td>\n",
       "    </tr>\n",
       "    <tr>\n",
       "      <th>6</th>\n",
       "      <td>16064</td>\n",
       "      <td>0.042002</td>\n",
       "      <td>0.856744</td>\n",
       "    </tr>\n",
       "    <tr>\n",
       "      <th>7</th>\n",
       "      <td>1448</td>\n",
       "      <td>0.003786</td>\n",
       "      <td>0.860530</td>\n",
       "    </tr>\n",
       "    <tr>\n",
       "      <th>8</th>\n",
       "      <td>2074</td>\n",
       "      <td>0.005423</td>\n",
       "      <td>0.865952</td>\n",
       "    </tr>\n",
       "    <tr>\n",
       "      <th>9</th>\n",
       "      <td>2281</td>\n",
       "      <td>0.005964</td>\n",
       "      <td>0.871916</td>\n",
       "    </tr>\n",
       "    <tr>\n",
       "      <th>10</th>\n",
       "      <td>48510</td>\n",
       "      <td>0.126836</td>\n",
       "      <td>0.998753</td>\n",
       "    </tr>\n",
       "    <tr>\n",
       "      <th>11</th>\n",
       "      <td>40</td>\n",
       "      <td>0.000105</td>\n",
       "      <td>0.998857</td>\n",
       "    </tr>\n",
       "    <tr>\n",
       "      <th>12</th>\n",
       "      <td>353</td>\n",
       "      <td>0.000923</td>\n",
       "      <td>0.999780</td>\n",
       "    </tr>\n",
       "    <tr>\n",
       "      <th>13</th>\n",
       "      <td>17</td>\n",
       "      <td>0.000044</td>\n",
       "      <td>0.999825</td>\n",
       "    </tr>\n",
       "    <tr>\n",
       "      <th>14</th>\n",
       "      <td>29</td>\n",
       "      <td>0.000076</td>\n",
       "      <td>0.999901</td>\n",
       "    </tr>\n",
       "    <tr>\n",
       "      <th>15</th>\n",
       "      <td>2</td>\n",
       "      <td>0.000005</td>\n",
       "      <td>0.999906</td>\n",
       "    </tr>\n",
       "    <tr>\n",
       "      <th>16</th>\n",
       "      <td>7</td>\n",
       "      <td>0.000018</td>\n",
       "      <td>0.999924</td>\n",
       "    </tr>\n",
       "    <tr>\n",
       "      <th>17</th>\n",
       "      <td>4</td>\n",
       "      <td>0.000010</td>\n",
       "      <td>0.999935</td>\n",
       "    </tr>\n",
       "    <tr>\n",
       "      <th>18</th>\n",
       "      <td>4</td>\n",
       "      <td>0.000010</td>\n",
       "      <td>0.999945</td>\n",
       "    </tr>\n",
       "    <tr>\n",
       "      <th>19</th>\n",
       "      <td>7</td>\n",
       "      <td>0.000018</td>\n",
       "      <td>0.999963</td>\n",
       "    </tr>\n",
       "    <tr>\n",
       "      <th>20</th>\n",
       "      <td>14</td>\n",
       "      <td>0.000037</td>\n",
       "      <td>1.000000</td>\n",
       "    </tr>\n",
       "  </tbody>\n",
       "</table>\n",
       "</div>"
      ],
      "text/plain": [
       "                 ni        fi        Fi\n",
       "Escolaridad                            \n",
       "0             11766  0.030764  0.030764\n",
       "1             20887  0.054612  0.085376\n",
       "2            152275  0.398145  0.483521\n",
       "3             27192  0.071097  0.554619\n",
       "4             57701  0.150868  0.705486\n",
       "5             41786  0.109256  0.814742\n",
       "6             16064  0.042002  0.856744\n",
       "7              1448  0.003786  0.860530\n",
       "8              2074  0.005423  0.865952\n",
       "9              2281  0.005964  0.871916\n",
       "10            48510  0.126836  0.998753\n",
       "11               40  0.000105  0.998857\n",
       "12              353  0.000923  0.999780\n",
       "13               17  0.000044  0.999825\n",
       "14               29  0.000076  0.999901\n",
       "15                2  0.000005  0.999906\n",
       "16                7  0.000018  0.999924\n",
       "17                4  0.000010  0.999935\n",
       "18                4  0.000010  0.999945\n",
       "19                7  0.000018  0.999963\n",
       "20               14  0.000037  1.000000"
      ]
     },
     "execution_count": 49,
     "metadata": {},
     "output_type": "execute_result"
    }
   ],
   "source": [
    "ni = df['Escolaridad'].astype(int).value_counts().sort_index() \n",
    "fi = df['Escolaridad'].astype(int).value_counts(normalize = True).sort_index() \n",
    "Fi = fi.cumsum()\n",
    "\n",
    "frec_esco = pd.DataFrame({'ni': ni,\n",
    "              'fi': fi,\n",
    "              'Fi': Fi})\n",
    "frec_esco"
   ]
  },
  {
   "cell_type": "code",
   "execution_count": 50,
   "metadata": {},
   "outputs": [
    {
     "data": {
      "image/png": "[encoded data removed]",
      "text/plain": [
       "<Figure size 640x480 with 1 Axes>"
      ]
     },
     "metadata": {},
     "output_type": "display_data"
    }
   ],
   "source": [
    "plt.hist(df['INGLABO'], edgecolor='black', color='purple') \n",
    "plt.show()"
   ]
  },
  {
   "cell_type": "code",
   "execution_count": 51,
   "metadata": {},
   "outputs": [
    {
     "data": {
      "image/png": "[encoded data removed]",
      "text/plain": [
       "<Figure size 640x480 with 1 Axes>"
      ]
     },
     "metadata": {},
     "output_type": "display_data"
    }
   ],
   "source": [
    "sns.kdeplot(df['INGLABO'], color='purple',fill=True, alpha=0.3)\n",
    "plt.show()"
   ]
  },
  {
   "cell_type": "markdown",
   "metadata": {},
   "source": [
    "## Covarianza\n",
    "\n",
    "La covarianza es una medida estadística que describe la relación y la magnitud de la variabilidad conjunta entre dos variables aleatorias. Indica cómo dos variables se mueven juntas y en qué dirección lo hacen: si tienden a aumentar o disminuir en conjunto.\n",
    "\n",
    "Es importante mencionar que la covarianza puede ser positiva, negativa o cero:\n",
    "\n",
    "- **Covarianza positiva:** Indica que cuando una variable tiende a tener valores por encima de su media, la otra variable también tiende a tener valores por encima de su media, y viceversa.\n",
    "\n",
    "- **Covarianza negativa:** Indica que cuando una variable tiende a tener valores por encima de su media, la otra variable tiende a tener valores por debajo de su media, y viceversa.\n",
    "\n",
    "- **Covarianza igual a cero:** Indica que no hay relación lineal entre las variables.\n",
    "\n",
    "$$Cov(X, Y) = \\frac{1}{n-1} \\sum_{i=1}^{n} (X_i - \\bar{X})(Y_i - \\bar{Y})$$"
   ]
  },
  {
   "cell_type": "code",
   "execution_count": 52,
   "metadata": {},
   "outputs": [
    {
     "data": {
      "text/plain": [
       "1228587.34757834"
      ]
     },
     "execution_count": 52,
     "metadata": {},
     "output_type": "execute_result"
    }
   ],
   "source": [
    "df.Escolaridad.cov(df.INGLABO)"
   ]
  },
  {
   "cell_type": "markdown",
   "metadata": {},
   "source": [
    "## Coeficiente de correlación de pearson\n",
    "\n",
    "El coeficiente de correlación de Pearson es una medida estadística que evalúa la relación lineal entre dos variables continuas. Es una medida de la fuerza y la dirección de la relación lineal entre dos conjuntos de datos.\n",
    "\n",
    "Este coeficiente varía entre -1 y 1. Un valor de 1 indica una correlación lineal positiva perfecta, lo que significa que cuando una variable aumenta, la otra también lo hace en proporción constante. Un valor de -1 indica una correlación lineal negativa perfecta, lo que significa que cuando una variable aumenta, la otra disminuye en proporción constante. Un valor de 0 indica que no hay relación lineal entre las dos variables.\n",
    "\n",
    "$$\\rho_{X,Y} = \\frac{\\text{Cov}(X, Y)}{\\sigma_X \\cdot \\sigma_Y}$$"
   ]
  },
  {
   "cell_type": "code",
   "execution_count": 53,
   "metadata": {},
   "outputs": [
    {
     "data": {
      "text/plain": [
       "0.21221556478640202"
      ]
     },
     "execution_count": 53,
     "metadata": {},
     "output_type": "execute_result"
    }
   ],
   "source": [
    "df.Escolaridad.corr(df.INGLABO) # Cercano a 1, a 0 o a -1"
   ]
  },
  {
   "cell_type": "code",
   "execution_count": 55,
   "metadata": {},
   "outputs": [
    {
     "data": {
      "text/plain": [
       "0.2133796564590372"
      ]
     },
     "execution_count": 55,
     "metadata": {},
     "output_type": "execute_result"
    }
   ],
   "source": [
    "df.Escolaridad.corr(df.INGLABO, method= 'spearman')\n",
    "df.Escolaridad.corr(df.INGLABO, method= 'kendall')"
   ]
  },
  {
   "cell_type": "code",
   "execution_count": 57,
   "metadata": {},
   "outputs": [
    {
     "data": {
      "text/plain": [
       "0.04503544593761159"
      ]
     },
     "execution_count": 57,
     "metadata": {},
     "output_type": "execute_result"
    }
   ],
   "source": [
    "# Coeficiente de determinación r^2\n",
    "\n",
    "r = df.Escolaridad.corr(df.INGLABO)\n",
    "r**2"
   ]
  },
  {
   "cell_type": "code",
   "execution_count": 56,
   "metadata": {},
   "outputs": [
    {
     "data": {
      "image/png": "[encoded data removed]",
      "text/plain": [
       "<Figure size 640x480 with 1 Axes>"
      ]
     },
     "metadata": {},
     "output_type": "display_data"
    }
   ],
   "source": [
    "plt.scatter(df.Escolaridad,df.INGLABO)\n",
    "plt.show()"
   ]
  },
  {
   "cell_type": "code",
   "execution_count": null,
   "metadata": {},
   "outputs": [],
   "source": [
    "# Matrices de correlación: mapas de calor\n"
   ]
  },
  {
   "cell_type": "code",
   "execution_count": null,
   "metadata": {},
   "outputs": [],
   "source": []
  },
  {
   "cell_type": "code",
   "execution_count": null,
   "metadata": {},
   "outputs": [],
   "source": []
  }
 ],
 "metadata": {
  "kernelspec": {
   "display_name": "Python 3",
   "language": "python",
   "name": "python3"
  },
  "language_info": {
   "codemirror_mode": {
    "name": "ipython",
    "version": 3
   },
   "file_extension": ".py",
   "mimetype": "text/x-python",
   "name": "python",
   "nbconvert_exporter": "python",
   "pygments_lexer": "ipython3",
   "version": "3.11.3"
  }
 },
 "nbformat": 4,
 "nbformat_minor": 2
}
